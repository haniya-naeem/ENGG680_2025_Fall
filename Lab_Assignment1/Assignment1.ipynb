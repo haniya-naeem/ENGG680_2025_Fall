{
  "nbformat": 4,
  "nbformat_minor": 0,
  "metadata": {
    "colab": {
      "provenance": []
    },
    "kernelspec": {
      "name": "python3",
      "display_name": "Python 3"
    },
    "language_info": {
      "name": "python"
    }
  },
  "cells": [
    {
      "cell_type": "markdown",
      "source": [
        "Part 1: Printing to the Console\n",
        "(4 Marks)"
      ],
      "metadata": {
        "id": "Ubi78FreuBOl"
      }
    },
    {
      "cell_type": "code",
      "source": [
        "# In the space below, please print \"Hello, World! Welcome to the Student Gradebook Management System.\"\n",
        "print(\"Hello, World! Welcome to the Student Gradebook Management System.\")"
      ],
      "metadata": {
        "colab": {
          "base_uri": "https://localhost:8080/"
        },
        "id": "kB5Mb57ztxX3",
        "outputId": "3113e729-a300-4f7e-ccab-f0b91f6636c5"
      },
      "execution_count": null,
      "outputs": [
        {
          "output_type": "stream",
          "name": "stdout",
          "text": [
            "Hello, World! Welcome to the Student Gradebook Management System.\n"
          ]
        }
      ]
    },
    {
      "cell_type": "code",
      "source": [
        "# Fill in your information using the defined variables below:\n",
        "# (1 mark)\n",
        "lab_group_number = 9\n",
        "intake_year = 2025\n",
        "intake_semester = \"Fall\" #\"Fall\" or \"Winter\"\n",
        "\n",
        "# Using f-strings and the variables above, print \"This is implemented by Group <lab_group_number>, for ENGG680 <intake_semester> of <intake_year>\"\n",
        "# (1 marks)\n",
        "print(f'This is implemented by Group {lab_group_number}, for ENGG680 {intake_semester} of {intake_year}')\n"
      ],
      "metadata": {
        "colab": {
          "base_uri": "https://localhost:8080/"
        },
        "id": "QjCe6_-mt03z",
        "outputId": "543e0792-e9fd-4274-f944-25f7750108ea"
      },
      "execution_count": null,
      "outputs": [
        {
          "output_type": "stream",
          "name": "stdout",
          "text": [
            "This is implemented by Group 9, for ENGG680 Fall of 2025\n"
          ]
        }
      ]
    },
    {
      "cell_type": "code",
      "source": [
        "# Similarly, create variables for each of your group members (eg. member_1, member_2....) and assign them your first names.\n",
        "Member_1 = \"Haniya\"\n",
        "Member_2 = \"Paula\"\n",
        "Member_3 = \"Maryam\"\n",
        "Member_4 = \"Qummar\"\n",
        "Member_5 = \"Niki\"\n",
        "\n",
        "# Then, using f-strings and the variables above, print the following sentence:\n",
        "# \"Our Group Members include <member_1>, <member_2>, ...\"\n",
        "print(f\"Our Group Members include {Member_1}, {Member_2}, {Member_3}, {Member_4}, {Member_5} \")\n",
        "# (1 marks)"
      ],
      "metadata": {
        "colab": {
          "base_uri": "https://localhost:8080/"
        },
        "id": "FfHCNN0ft2vB",
        "outputId": "33500481-02eb-481c-af8e-76d5e86bca03"
      },
      "execution_count": null,
      "outputs": [
        {
          "output_type": "stream",
          "name": "stdout",
          "text": [
            "Our Group Members include Haniya, Paula, Maryam, Qummar, Niki \n"
          ]
        }
      ]
    },
    {
      "cell_type": "code",
      "source": [
        "# Use indexing to print \"The subjects involved in this grading system is English and Math.\" using \"subjects\" below.\n",
        "# (1 marks)\n",
        "subjects = (\"English\", \"Math\")\n",
        "print(f'The subjects involved in this grading system is {subjects[0]} and {subjects[1]}.')"
      ],
      "metadata": {
        "colab": {
          "base_uri": "https://localhost:8080/"
        },
        "id": "M3G4W6not4Nl",
        "outputId": "448d6171-a967-4a2c-ec99-e371856eb3f8"
      },
      "execution_count": null,
      "outputs": [
        {
          "output_type": "stream",
          "name": "stdout",
          "text": [
            "The subjects involved in this grading system is English and Math.\n"
          ]
        }
      ]
    },
    {
      "cell_type": "markdown",
      "source": [
        "Part 2: Python Fundamentals\n",
        "(11 Marks)"
      ],
      "metadata": {
        "id": "Jm36M2wXt48i"
      }
    },
    {
      "cell_type": "code",
      "source": [
        "# Lists (2 marks)\n",
        "\n",
        "# 1. Create a list of any 5 cities in Alberta.\n",
        "#\n",
        "Alberta_Cities = [\"Calgary\", \"Edmonton\", \"Red Deer\", \"Canmore\", \"Airdrie\"]\n",
        "\n",
        "# 2. Print the list\n",
        "#\n",
        "print(\"Initial List of Alberta Cities:\", Alberta_Cities)\n",
        "\n",
        "# 3. Add a new city to list.\n",
        "#\n",
        "Alberta_Cities.append(\"Lethbridge\")\n",
        "\n",
        "# 4. Remove the second city using either remove() or pop().\n",
        "#\n",
        "Alberta_Cities.pop(1)\n",
        "\n",
        "# 5. Sort the list alphabetically\n",
        "#\n",
        "Alberta_Cities.sort()\n",
        "\n",
        "# 6. Print your final list\n",
        "#\n",
        "print(\"Final list of Alberta Cities:\", Alberta_Cities)"
      ],
      "metadata": {
        "colab": {
          "base_uri": "https://localhost:8080/"
        },
        "id": "jDaBAfCMuDPl",
        "outputId": "fefc4f7e-8a11-4590-af59-a16ccf6ff276"
      },
      "execution_count": null,
      "outputs": [
        {
          "output_type": "stream",
          "name": "stdout",
          "text": [
            "Initial List of Alberta Cities: ['Calgary', 'Edmonton', 'Red Deer', 'Canmore', 'Airdrie']\n",
            "Final list of Alberta Cities: ['Airdrie', 'Calgary', 'Canmore', 'Lethbridge', 'Red Deer']\n"
          ]
        }
      ]
    },
    {
      "cell_type": "code",
      "source": [
        "# Tuples (2 marks)\n",
        "\n",
        "# 1. Create a tuple of 3 favorite numbers.\n",
        "#\n",
        "My_Favorite_Numbers = (5,9,8)\n",
        "\n",
        "\n",
        "# 2. Print the tuple.\n",
        "#\n",
        "print (My_Favorite_Numbers)\n",
        "\n",
        "\n",
        "# 3. Try to modify the second element. Does that work? Explain.\n",
        "#\n",
        "My_Favorite_Numbers[1]=18\n",
        "\n",
        "#Explanation: Tuples are immutable therefore once the elements are created, they cannot be changed. Also, if you try to change them, tuple will result to TypeError.\n"
      ],
      "metadata": {
        "id": "v1Depf-4uHRH",
        "colab": {
          "base_uri": "https://localhost:8080/",
          "height": 251
        },
        "outputId": "db600a68-709c-49d4-c354-80a37e0c9afc"
      },
      "execution_count": null,
      "outputs": [
        {
          "output_type": "stream",
          "name": "stdout",
          "text": [
            "(5, 9, 8)\n"
          ]
        },
        {
          "output_type": "error",
          "ename": "TypeError",
          "evalue": "'tuple' object does not support item assignment",
          "traceback": [
            "\u001b[0;31m---------------------------------------------------------------------------\u001b[0m",
            "\u001b[0;31mTypeError\u001b[0m                                 Traceback (most recent call last)",
            "\u001b[0;32m/tmp/ipython-input-3782202056.py\u001b[0m in \u001b[0;36m<cell line: 0>\u001b[0;34m()\u001b[0m\n\u001b[1;32m     13\u001b[0m \u001b[0;31m# 3. Try to modify the second element. Does that work? Explain.\u001b[0m\u001b[0;34m\u001b[0m\u001b[0;34m\u001b[0m\u001b[0m\n\u001b[1;32m     14\u001b[0m \u001b[0;31m#\u001b[0m\u001b[0;34m\u001b[0m\u001b[0;34m\u001b[0m\u001b[0m\n\u001b[0;32m---> 15\u001b[0;31m \u001b[0mMy_Favorite_Numbers\u001b[0m\u001b[0;34m[\u001b[0m\u001b[0;36m1\u001b[0m\u001b[0;34m]\u001b[0m\u001b[0;34m=\u001b[0m\u001b[0;36m18\u001b[0m\u001b[0;34m\u001b[0m\u001b[0;34m\u001b[0m\u001b[0m\n\u001b[0m\u001b[1;32m     16\u001b[0m \u001b[0;34m\u001b[0m\u001b[0m\n\u001b[1;32m     17\u001b[0m \u001b[0;31m#Explanation: Tuples are immutable therefore once the elements are created, they cannot be changed. Also, if you try to change them, tuple will result to TypeError.\u001b[0m\u001b[0;34m\u001b[0m\u001b[0;34m\u001b[0m\u001b[0m\n",
            "\u001b[0;31mTypeError\u001b[0m: 'tuple' object does not support item assignment"
          ]
        }
      ]
    },
    {
      "cell_type": "code",
      "source": [
        "# Dictionaries (2 marks)\n",
        "\n",
        "# 1. Create a dictionary representing a mini visa form with keys like:\n",
        "# \"Name\", \"File Number\", \"Country\", \"Visa Type\", \"Expiry Year\"\n",
        "# Assign fictional values to the keys.\n",
        "# Note: Dictionaries can contain values of different data types.\n",
        "#\n",
        "\n",
        "Mini_Visa_form = {\n",
        "    \"Name\" : \"Paula Marie Honrade\",\n",
        "    \"File Number\" : \"E112233445\",\n",
        "    \"Country\" : \"Canada\" ,\n",
        "    \"Visa Type\" : \"Student\",\n",
        "    \"Expiry Year\":2027\n",
        "}\n",
        "\n",
        "\n",
        "# 2. Print the dictionary\n",
        "#\n",
        "print(Mini_Visa_form)\n",
        "\n",
        "# 3. Add a new key \"University\" with a value\n",
        "#\n",
        "Mini_Visa_form['University'] = \"University of Calgary\"\n",
        "\n",
        "# 4. Update \"Expiry Year\" to a new year\n",
        "#\n",
        "Mini_Visa_form['Expiry Year'] = 2030\n",
        "# 5. Print the final dictionary\n",
        "#\n",
        "print(Mini_Visa_form)"
      ],
      "metadata": {
        "id": "kvyU4RCduLZV",
        "colab": {
          "base_uri": "https://localhost:8080/"
        },
        "outputId": "e9723fe7-ed57-4b00-adf1-23a1d85e9049"
      },
      "execution_count": null,
      "outputs": [
        {
          "output_type": "stream",
          "name": "stdout",
          "text": [
            "{'Name': 'Paula Marie Honrade', 'File Number': 'E112233445', 'Country': 'Canada', 'Visa Type': 'Student', 'Expiry Year': 2027}\n",
            "{'Name': 'Paula Marie Honrade', 'File Number': 'E112233445', 'Country': 'Canada', 'Visa Type': 'Student', 'Expiry Year': 2030, 'University': 'University of Calgary'}\n"
          ]
        }
      ]
    },
    {
      "cell_type": "code",
      "source": [
        "# Sets (2 marks)\n",
        "\n",
        "# Set 1\n",
        "subjects1 = {\"Math\", \"English\", \"Physics\", \"Biology\", \"History\"}\n",
        "\n",
        "# Set 2\n",
        "subjects2 = {\"Math\", \"English\", \"Chemistry\", \"Geography\", \"Physics\"}\n",
        "\n",
        "# Tip: Use f-strings to print clear messages along with your output.\n",
        "# Eg. \"Union: \", \"Intersection: \"\n",
        "\n",
        "# 1. Print both the sets\n",
        "#\n",
        "print(f\"Subjects 1: {subjects1}\")\n",
        "print(f\"Subjects 2: {subjects2}\")\n",
        "\n",
        "# 2. Print the union of sets\n",
        "#\n",
        "print(f\"Union: {subjects1.union(subjects2)}\")\n",
        "# 3. Print the intersection of sets\n",
        "#\n",
        "print(f\"Intersection: {subjects1.intersection(subjects2)}\")\n",
        "# 4. Print the difference (subjects1 - subjects2)\n",
        "#\n",
        "print(f\"Difference (subjects1 - subjects2): {subjects1.difference(subjects2)}\")"
      ],
      "metadata": {
        "id": "kcRHx89iuODN",
        "colab": {
          "base_uri": "https://localhost:8080/"
        },
        "outputId": "4b48fb20-4964-4d0c-eb5e-991b7a783e6d"
      },
      "execution_count": null,
      "outputs": [
        {
          "output_type": "stream",
          "name": "stdout",
          "text": [
            "Subjects 1: {'Biology', 'English', 'Physics', 'Math', 'History'}\n",
            "Subjects 2: {'Chemistry', 'Physics', 'Geography', 'English', 'Math'}\n",
            "Union: {'Biology', 'Chemistry', 'Geography', 'Math', 'History', 'Physics', 'English'}\n",
            "Intersection: {'Physics', 'English', 'Math'}\n",
            "Difference (subjects1 - subjects2): {'Biology', 'History'}\n"
          ]
        }
      ]
    },
    {
      "cell_type": "code",
      "source": [
        "# Classes and Function (3 marks)\n",
        "\n",
        "# Step 1: Create a class BankAccount.\n",
        "# Add class attribute bankname=\"Canada Bank\"\n",
        "# Add 2 instance attributes: account_holder (string) & balance (float, default value 0.0)\n",
        "\n",
        "class BankAccount:\n",
        "\n",
        "  #class attribute\n",
        "  bankname = \"Canada Bank\"\n",
        "\n",
        "  #Constructor with 2 Instance Attributes\n",
        "  def __init__(self,account_holder,balance=0.0):\n",
        "    self.account_holder = account_holder\n",
        "    self.balance = balance\n",
        "\n",
        "\n",
        "# Step 2: Add methods\n",
        "# 1. deposit(amount) -> Add amount to the balance\n",
        "\n",
        "  def deposit(self, amount):\n",
        "     self.balance += amount\n",
        "     print(f\"Deposited CAD {amount:.2f}. New balance: CAD {self.balance:.2f}\")\n",
        "\n",
        "\n",
        "# 2. withdraw(amount) -> Subtract the amount if balance is sufficient, else print an error message\n",
        "\n",
        "  def withdraw(self, amount):\n",
        "      if amount <= self.balance:\n",
        "            self.balance -= amount\n",
        "            print(f\"Withdraw CAD {amount:.2f}. Remaining balance: CAD {self.balance:.2f}\")\n",
        "      else:\n",
        "            print(f\"Insufficient balance to withdraw CAD {amount:.2f}. Current balance: CAD {self.balance:.2f}\")\n",
        "\n",
        "# 3. get_balance() -> Print Account holder's name and current balance\n",
        "\n",
        "  def get_balance(self):\n",
        "        print(f\"{self.account_holder}'s current balance: CAD {self.balance:.2f}\")\n",
        "\n",
        "\n",
        "# 4. get_bankname() -> Print the class attribute (staticmethod)\n",
        "  def get_bankname():\n",
        "        print(f\"Bank Name: {BankAccount.bankname}\")\n",
        "\n",
        "# Note: Use f-strings to display the amount and updated balance whenever you call deposit() or withdraw()\n",
        "\n",
        "\n",
        "# Step 3: Test\n",
        "# 1. Print the Bankname\n",
        "BankAccount.get_bankname()\n",
        "\n",
        "# 2. Create an object of BankAccount with your name and an initial balance of 1000\n",
        "account1 = BankAccount(\"Paula\", 1000)\n",
        "\n",
        "# 3. Deposit 500\n",
        "account1.deposit(500)\n",
        "\n",
        "# 4. Withdraw 200\n",
        "account1.withdraw(200)\n",
        "\n",
        "\n",
        "# 5. Print the final balance\n",
        "account1.get_balance()"
      ],
      "metadata": {
        "id": "-xFADB73uP0_",
        "colab": {
          "base_uri": "https://localhost:8080/"
        },
        "outputId": "f0066cdd-1c91-4056-ec07-1befeb79e8f2"
      },
      "execution_count": null,
      "outputs": [
        {
          "output_type": "stream",
          "name": "stdout",
          "text": [
            "Bank Name: Canada Bank\n",
            "Deposited CAD 500.00. New balance: CAD 1500.00\n",
            "Withdraw CAD 200.00. Remaining balance: CAD 1300.00\n",
            "Paula's current balance: CAD 1300.00\n"
          ]
        }
      ]
    }
  ]
}